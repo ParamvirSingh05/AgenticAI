{
 "cells": [
  {
   "attachments": {},
   "cell_type": "markdown",
   "id": "541a5c9c",
   "metadata": {},
   "source": [
    "# Exercise - Building an AI Agent with Tools\n",
    "\n",
    "In this exercise, you'll build an AI agent that can use tools to enhance its capabilities. You'll learn how to create an agent that can understand when to use tools, process their results, and maintain a coherent conversation."
   ]
  },
  {
   "cell_type": "markdown",
   "id": "0918d12a",
   "metadata": {},
   "source": [
    "## Challenge\n",
    "\n",
    "Imagine you're building a smart coding assistant that needs to:\n",
    "- Answer programming questions\n",
    "- Execute code snippets\n",
    "- Look up documentation\n",
    "- Perform calculations\n",
    "- Search through codebases\n",
    "\n",
    "Instead of hard-coding when to use each capability, your agent should intelligently decide when and how to use its available tools."
   ]
  },
  {
   "cell_type": "markdown",
   "id": "9b9c89db",
   "metadata": {},
   "source": [
    "## Setup\n",
    "First, let's import the necessary libraries:"
   ]
  },
  {
   "cell_type": "code",
   "execution_count": 1,
   "id": "a220d2bf",
   "metadata": {},
   "outputs": [],
   "source": [
    "from typing import List, Dict, Any\n",
    "from dotenv import load_dotenv\n",
    "from copy import deepcopy\n",
    "import json\n",
    "\n",
    "from lib.messages import UserMessage, SystemMessage, ToolMessage\n",
    "from lib.tooling import tool\n",
    "from lib.llm import LLM"
   ]
  },
  {
   "cell_type": "markdown",
   "id": "a4cec412",
   "metadata": {},
   "source": [
    "## Understanding the Components\n",
    "\n",
    "Before we build our agent, let's understand the key components we'll be working with:\n",
    "\n",
    "- `LLM`: The language model wrapper that handles tool execution\n",
    "- `SystemMessage`: Defines the agent's role and behavior\n",
    "- `UserMessage`: Represents user inputs\n",
    "- `ToolMessage`: Contains tool execution results\n",
    "- `tool`: Decorator for creating tools"
   ]
  },
  {
   "cell_type": "markdown",
   "id": "a92058e5",
   "metadata": {},
   "source": [
    "## Building the Agent Class\n",
    "\n",
    "Your task is to create an Agent class that can:\n",
    "1. Initialize with a specific role and set of tools\n",
    "2. Process user messages\n",
    "3. Decide when to use tools\n",
    "4. Handle tool responses"
   ]
  },
  {
   "cell_type": "code",
   "execution_count": 2,
   "id": "2f95460f",
   "metadata": {},
   "outputs": [],
   "source": [
    "class Agent:\n",
    "    \"\"\"An AI Agent that can use tools to help answer questions\"\"\"\n",
    "    \n",
    "    def __init__(\n",
    "        self,\n",
    "        role: str = \"Personal Assistant\",\n",
    "        instructions: str = \"Help users with any question\",\n",
    "        model: str = \"gpt-4o-mini\",\n",
    "        temperature: float = 0.0,\n",
    "        tools: List[Any] = None\n",
    "    ):\n",
    "        \"\"\"Initialize the agent with its configuration and tools\"\"\"\n",
    "        # TODO 1: Initialize the agent\n",
    "        # Hint: \n",
    "        # - Load environment variables with load_dotenv()\n",
    "        # - Store agent settings (role, instructions, etc.)\n",
    "        # - Create an LLM instance with the provided tools\n",
    "        load_dotenv()\n",
    "        api_key = os.getenv(\"OPENAI_API_KEY\")\n",
    "        self.model = model\n",
    "        self.role = role\n",
    "        self.instructions = instructions\n",
    "        self.tools = tools\n",
    "        self.llm = LLM(model=model, temperature=temperature, tools=tools, api_key=api_key)\n",
    "\n",
    "\n",
    "    def invoke(self, user_message: str) -> str:\n",
    "        \"\"\"Process a user message and return a response\"\"\"\n",
    "        # TODO 2: Set up the conversation\n",
    "        # Hint:\n",
    "        # - Create messages list with SystemMessage (role + instructions)\n",
    "        # - Add UserMessage with user_message\n",
    "        # - Get initial AI response using self.llm.invoke()\n",
    "\n",
    "        messages = [\n",
    "            SystemMessage(\n",
    "                content=(\n",
    "                    f\"You're an AI Agent and your role is {self.role}. \"  \n",
    "                    f\"Your instructions: {self.instructions}\"\n",
    "                )\n",
    "            )\n",
    "        ]\n",
    "\n",
    "        messages.append(UserMessage(content=user_message))\n",
    "\n",
    "        ai_message = self.llm.invoke(messages)\n",
    "        messages.append(ai_message)\n",
    "\n",
    "        # TODO 3: Handle tool calls if needed\n",
    "        # Hint:\n",
    "        # - Check if ai_message.tool_calls exists\n",
    "        # - For each tool call:\n",
    "        #   * Get function name and arguments\n",
    "        #   * Execute tool and get result\n",
    "        #   * Add result as ToolMessage\n",
    "        # - Get final AI response\n",
    "\n",
    "        while ai_message.tool_calls:\n",
    "            for tool_call in ai_message.tool_calls:\n",
    "                function_args = json.loads(tool_call.function.arguments)\n",
    "                function_name = tool_call.function.name\n",
    "                tool_call_id = tool_call.id\n",
    "\n",
    "                # Find the matching tool\n",
    "                # tool = next(t for t in self.tools if t.name == function_name else None)\n",
    "                tool = None\n",
    "                for t in self.tools:\n",
    "                    if t.name == function_name:\n",
    "                        tool = t\n",
    "                        break\n",
    "                \n",
    "                print(tool)\n",
    "                \n",
    "                if tool:\n",
    "                    tool_result = tool(**function_args)\n",
    "                    messages.append(\n",
    "                        ToolMessage(\n",
    "                            content=json.dumps(tool_result),\n",
    "                            tool_call_id=tool_call_id,\n",
    "                            name=function_name\n",
    "                        )\n",
    "                    )\n",
    "            \n",
    "            ai_message = self.llm.invoke(messages)\n",
    "            messages.append(ai_message)\n",
    "        \n",
    "        for m in messages:\n",
    "            print(m)\n",
    "        \n",
    "        return ai_message.content"
   ]
  },
  {
   "cell_type": "markdown",
   "id": "cda3c9b8",
   "metadata": {},
   "source": [
    "## Testing Your Agent\n",
    "\n",
    "Once you've implemented the Agent class, test it with different scenarios:"
   ]
  },
  {
   "cell_type": "markdown",
   "id": "0cef22d6",
   "metadata": {},
   "source": [
    "1. Basic conversation without tools"
   ]
  },
  {
   "cell_type": "code",
   "execution_count": 3,
   "id": "5fdf9fa0",
   "metadata": {},
   "outputs": [
    {
     "name": "stdout",
     "output_type": "stream",
     "text": [
      "content=\"You're an AI Agent and your role is Coding Assistant. Your instructions: Help users with any question\" role='system'\n",
      "content='What is Python? Be concise' role='user'\n",
      "content='Python is a high-level, interpreted programming language known for its readability and simplicity. It supports multiple programming paradigms, including procedural, object-oriented, and functional programming. Python is widely used for web development, data analysis, artificial intelligence, scientific computing, and automation, among other applications.' role='assistant' tool_calls=None\n",
      "Python is a high-level, interpreted programming language known for its readability and simplicity. It supports multiple programming paradigms, including procedural, object-oriented, and functional programming. Python is widely used for web development, data analysis, artificial intelligence, scientific computing, and automation, among other applications.\n"
     ]
    }
   ],
   "source": [
    "agent = Agent(role=\"Coding Assistant\")\n",
    "response = agent.invoke(\"What is Python? Be concise\")\n",
    "print(response)"
   ]
  },
  {
   "cell_type": "markdown",
   "id": "661ec4ce",
   "metadata": {},
   "source": [
    "2. Create a calculator tool"
   ]
  },
  {
   "cell_type": "code",
   "execution_count": 4,
   "id": "71c637de",
   "metadata": {},
   "outputs": [],
   "source": [
    "@tool\n",
    "def calculate(expression: str) -> float:\n",
    "    \"\"\"Evaluate a mathematical expression\"\"\"\n",
    "    return eval(expression)"
   ]
  },
  {
   "cell_type": "code",
   "execution_count": 5,
   "id": "2e3204ef",
   "metadata": {},
   "outputs": [],
   "source": [
    "# Create an agent with the calculator tool\n",
    "math_agent = Agent(\n",
    "    role=\"Math Assistant\",\n",
    "    tools=[calculate]\n",
    ")"
   ]
  },
  {
   "cell_type": "code",
   "execution_count": 6,
   "id": "437c9e3d",
   "metadata": {},
   "outputs": [
    {
     "name": "stdout",
     "output_type": "stream",
     "text": [
      "<Tool name=calculate params=['expression']>\n",
      "content=\"You're an AI Agent and your role is Math Assistant. Your instructions: Help users with any question\" role='system'\n",
      "content='What is 23 * 45?' role='user'\n",
      "content=None role='assistant' tool_calls=[ChatCompletionMessageToolCall(id='call_snhtnNH5f6oLQaswbz3Rp2Us', function=Function(arguments='{\"expression\":\"23 * 45\"}', name='calculate'), type='function')]\n",
      "content='1035' role='tool' tool_call_id='call_snhtnNH5f6oLQaswbz3Rp2Us' name='calculate'\n",
      "content='The result of \\\\( 23 \\\\times 45 \\\\) is 1035.' role='assistant' tool_calls=None\n",
      "The result of \\( 23 \\times 45 \\) is 1035.\n"
     ]
    }
   ],
   "source": [
    "response = math_agent.invoke(\"What is 23 * 45?\")\n",
    "print(response)"
   ]
  },
  {
   "cell_type": "code",
   "execution_count": 7,
   "id": "2e1b6096",
   "metadata": {},
   "outputs": [
    {
     "name": "stdout",
     "output_type": "stream",
     "text": [
      "<Tool name=calculate params=['expression']>\n",
      "<Tool name=calculate params=['expression']>\n",
      "content=\"You're an AI Agent and your role is Math Assistant. Your instructions: Help users with any question\" role='system'\n",
      "content='If I multiply 3 by 5, what do I get? Then later add 7' role='user'\n",
      "content=None role='assistant' tool_calls=[ChatCompletionMessageToolCall(id='call_dOGZ0opqhTteurYRQj3IS1PX', function=Function(arguments='{\"expression\": \"3 * 5\"}', name='calculate'), type='function'), ChatCompletionMessageToolCall(id='call_y43gjRQIiDBbT9PbNFTe0e1w', function=Function(arguments='{\"expression\": \"(3 * 5) + 7\"}', name='calculate'), type='function')]\n",
      "content='15' role='tool' tool_call_id='call_dOGZ0opqhTteurYRQj3IS1PX' name='calculate'\n",
      "content='22' role='tool' tool_call_id='call_y43gjRQIiDBbT9PbNFTe0e1w' name='calculate'\n",
      "content='If you multiply 3 by 5, you get 15. If you then add 7 to that result, you get 22.' role='assistant' tool_calls=None\n",
      "If you multiply 3 by 5, you get 15. If you then add 7 to that result, you get 22.\n"
     ]
    }
   ],
   "source": [
    "# Test multiple tool usage\n",
    "response = math_agent.invoke(\"If I multiply 3 by 5, what do I get? Then later add 7\")\n",
    "print(response)"
   ]
  },
  {
   "cell_type": "markdown",
   "id": "e45fbf2c",
   "metadata": {},
   "source": [
    "3. Create a data analyst"
   ]
  },
  {
   "cell_type": "code",
   "execution_count": 8,
   "id": "7bddebeb",
   "metadata": {},
   "outputs": [],
   "source": [
    "GAMES = [\n",
    "    {\"Game\": \"The Legend of Zelda: Breath of the Wild\", \"Platform\": \"Switch\", \"Score\": 98},\n",
    "    {\"Game\": \"Super Mario Odyssey\", \"Platform\": \"Switch\", \"Score\": 97},\n",
    "    {\"Game\": \"Metroid Prime\", \"Platform\": \"GameCube\", \"Score\": 97},\n",
    "    {\"Game\": \"Super Smash Bros. Brawl\", \"Platform\": \"Wii\", \"Score\": 93},\n",
    "    {\"Game\": \"Mario Kart 8 Deluxe\", \"Platform\": \"Switch\", \"Score\": 92},\n",
    "    {\"Game\": \"Fire Emblem: Awakening\", \"Platform\": \"3DS\", \"Score\": 92},\n",
    "    {\"Game\": \"Donkey Kong Country Returns\", \"Platform\": \"Wii\", \"Score\": 87},\n",
    "    {\"Game\": \"Luigi's Mansion 3\", \"Platform\": \"Switch\", \"Score\": 86},\n",
    "    {\"Game\": \"Pikmin 3\", \"Platform\": \"Wii U\", \"Score\": 85},\n",
    "    {\"Game\": \"Animal Crossing: New Leaf\", \"Platform\": \"3DS\", \"Score\": 88},\n",
    "]"
   ]
  },
  {
   "cell_type": "code",
   "execution_count": 9,
   "id": "7b034a4e",
   "metadata": {},
   "outputs": [],
   "source": [
    "@tool\n",
    "def get_games(num_games:int=1, top:bool=True) -> str:\n",
    "    \"\"\"\n",
    "    Returns the top or bottom N games with highest or lowest scores.    \n",
    "    args:\n",
    "        num_games (int): Number of games to return (default is 1)\n",
    "        top (bool): If True, return top games, otherwise return bottom (default is True)\n",
    "    \"\"\"\n",
    "    # Sort the games list by Score\n",
    "    # If top is True, descending order\n",
    "    sorted_games = sorted(GAMES, key=lambda x: x['Score'], reverse=top)\n",
    "    \n",
    "    # Return the N games\n",
    "    return sorted_games[:num_games]\n",
    "\n",
    "@tool\n",
    "def average_score() -> float:\n",
    "    \"\"\"Return the average score across all games.\"\"\"\n",
    "    return sum(g[\"Score\"] for g in GAMES) / len(GAMES)\n",
    "\n",
    "@tool\n",
    "def platform_mean(platform: str) -> float:\n",
    "    \"\"\"Return the mean score for a given platform (case-insensitive).\"\"\"\n",
    "    p = platform.lower()\n",
    "    subset = [g[\"Score\"] for g in GAMES if g[\"Platform\"].lower() == p]\n",
    "    if not subset:\n",
    "        return float(\"nan\")\n",
    "    return sum(subset) / len(subset)\n",
    "\n",
    "@tool\n",
    "def count_games(platform: str | None = None) -> int:\n",
    "    \"\"\"Count games overall or for a specific platform.\"\"\"\n",
    "    if platform is None:\n",
    "        return len(GAMES)\n",
    "    return sum(1 for g in GAMES if g[\"Platform\"].lower() == platform.lower())\n",
    "\n",
    "@tool\n",
    "def platform_distribution() -> dict:\n",
    "    \"\"\"\n",
    "    Returns the count of games per platform.\n",
    "    \"\"\"\n",
    "    counts = {}\n",
    "    for g in GAMES:\n",
    "        counts[g[\"Platform\"]] = counts.get(g[\"Platform\"], 0) + 1\n",
    "    return counts"
   ]
  },
  {
   "cell_type": "code",
   "execution_count": 10,
   "id": "c47a77c8",
   "metadata": {},
   "outputs": [],
   "source": [
    "# Create an agent with the multiple tools\n",
    "data_analyst_agent = Agent(\n",
    "    role=\"Game Stats Assistant\",\n",
    "    instructions=\"You can bring insights about a game dataset based on users questions\",\n",
    "    tools=[get_games]\n",
    ")"
   ]
  },
  {
   "cell_type": "code",
   "execution_count": 11,
   "id": "0139cdad",
   "metadata": {},
   "outputs": [
    {
     "name": "stdout",
     "output_type": "stream",
     "text": [
      "<Tool name=get_games params=['num_games', 'top']>\n",
      "content=\"You're an AI Agent and your role is Game Stats Assistant. Your instructions: You can bring insights about a game dataset based on users questions\" role='system'\n",
      "content=\"What's the best game in the dataset?\" role='user'\n",
      "content=None role='assistant' tool_calls=[ChatCompletionMessageToolCall(id='call_9nar7VW4zJ836naGM4Y0UW6o', function=Function(arguments='{\"num_games\":1,\"top\":true}', name='get_games'), type='function')]\n",
      "content='[{\"Game\": \"The Legend of Zelda: Breath of the Wild\", \"Platform\": \"Switch\", \"Score\": 98}]' role='tool' tool_call_id='call_9nar7VW4zJ836naGM4Y0UW6o' name='get_games'\n",
      "content='The best game in the dataset is **The Legend of Zelda: Breath of the Wild** for the Switch, with a score of **98**.' role='assistant' tool_calls=None\n",
      "The best game in the dataset is **The Legend of Zelda: Breath of the Wild** for the Switch, with a score of **98**.\n"
     ]
    }
   ],
   "source": [
    "response = data_analyst_agent.invoke(\"What's the best game in the dataset?\")\n",
    "print(response)"
   ]
  },
  {
   "cell_type": "code",
   "execution_count": 12,
   "id": "84cdf1cd",
   "metadata": {},
   "outputs": [
    {
     "name": "stdout",
     "output_type": "stream",
     "text": [
      "<Tool name=get_games params=['num_games', 'top']>\n",
      "content=\"You're an AI Agent and your role is Game Stats Assistant. Your instructions: You can bring insights about a game dataset based on users questions\" role='system'\n",
      "content=\"What's the worst game in the dataset?\" role='user'\n",
      "content=None role='assistant' tool_calls=[ChatCompletionMessageToolCall(id='call_xmoif45TuhMk3uf3LFNcNtV8', function=Function(arguments='{\"num_games\":1,\"top\":false}', name='get_games'), type='function')]\n",
      "content='[{\"Game\": \"Pikmin 3\", \"Platform\": \"Wii U\", \"Score\": 85}]' role='tool' tool_call_id='call_xmoif45TuhMk3uf3LFNcNtV8' name='get_games'\n",
      "content='The worst game in the dataset is \"Pikmin 3\" for the Wii U, with a score of 85.' role='assistant' tool_calls=None\n",
      "The worst game in the dataset is \"Pikmin 3\" for the Wii U, with a score of 85.\n"
     ]
    }
   ],
   "source": [
    "response = data_analyst_agent.invoke(\"What's the worst game in the dataset?\")\n",
    "print(response)"
   ]
  },
  {
   "cell_type": "code",
   "execution_count": 13,
   "id": "baa27e07",
   "metadata": {},
   "outputs": [],
   "source": [
    "game_stats_agent = Agent(\n",
    "    role=\"Game Stats Assistant\",\n",
    "    instructions=\"Answer questions about the provided Nintendo games dataset. Use tools when helpful.\",\n",
    "    tools=[get_games, average_score, platform_mean, count_games, platform_distribution],\n",
    ")"
   ]
  },
  {
   "cell_type": "code",
   "execution_count": 14,
   "id": "14f038ab",
   "metadata": {},
   "outputs": [
    {
     "name": "stdout",
     "output_type": "stream",
     "text": [
      "<Tool name=average_score params=[]>\n",
      "content=\"You're an AI Agent and your role is Game Stats Assistant. Your instructions: Answer questions about the provided Nintendo games dataset. Use tools when helpful.\" role='system'\n",
      "content='What is the average score?' role='user'\n",
      "content=None role='assistant' tool_calls=[ChatCompletionMessageToolCall(id='call_LeqMXriYeRo00QPaqyqzV7Wr', function=Function(arguments='{}', name='average_score'), type='function')]\n",
      "content='91.5' role='tool' tool_call_id='call_LeqMXriYeRo00QPaqyqzV7Wr' name='average_score'\n",
      "content='The average score across all games is 91.5.' role='assistant' tool_calls=None\n",
      "The average score across all games is 91.5.\n"
     ]
    }
   ],
   "source": [
    "print(game_stats_agent.invoke(\"What is the average score?\"))"
   ]
  },
  {
   "cell_type": "code",
   "execution_count": 15,
   "id": "43c477b1",
   "metadata": {},
   "outputs": [
    {
     "name": "stdout",
     "output_type": "stream",
     "text": [
      "<Tool name=get_games params=['num_games', 'top']>\n",
      "content=\"You're an AI Agent and your role is Game Stats Assistant. Your instructions: Answer questions about the provided Nintendo games dataset. Use tools when helpful.\" role='system'\n",
      "content='Show me the top 3 games by score.' role='user'\n",
      "content=None role='assistant' tool_calls=[ChatCompletionMessageToolCall(id='call_BRtkbiNmsVZKtOVXRJ79Koxx', function=Function(arguments='{\"num_games\":3,\"top\":true}', name='get_games'), type='function')]\n",
      "content='[{\"Game\": \"The Legend of Zelda: Breath of the Wild\", \"Platform\": \"Switch\", \"Score\": 98}, {\"Game\": \"Super Mario Odyssey\", \"Platform\": \"Switch\", \"Score\": 97}, {\"Game\": \"Metroid Prime\", \"Platform\": \"GameCube\", \"Score\": 97}]' role='tool' tool_call_id='call_BRtkbiNmsVZKtOVXRJ79Koxx' name='get_games'\n",
      "content='The top 3 games by score are:\\n\\n1. **The Legend of Zelda: Breath of the Wild** - Score: 98 (Platform: Switch)\\n2. **Super Mario Odyssey** - Score: 97 (Platform: Switch)\\n3. **Metroid Prime** - Score: 97 (Platform: GameCube)' role='assistant' tool_calls=None\n",
      "The top 3 games by score are:\n",
      "\n",
      "1. **The Legend of Zelda: Breath of the Wild** - Score: 98 (Platform: Switch)\n",
      "2. **Super Mario Odyssey** - Score: 97 (Platform: Switch)\n",
      "3. **Metroid Prime** - Score: 97 (Platform: GameCube)\n"
     ]
    }
   ],
   "source": [
    "print(game_stats_agent.invoke(\"Show me the top 3 games by score.\"))"
   ]
  },
  {
   "cell_type": "code",
   "execution_count": 16,
   "id": "0846df9f",
   "metadata": {},
   "outputs": [
    {
     "name": "stdout",
     "output_type": "stream",
     "text": [
      "<Tool name=count_games params=['platform']>\n",
      "content=\"You're an AI Agent and your role is Game Stats Assistant. Your instructions: Answer questions about the provided Nintendo games dataset. Use tools when helpful.\" role='system'\n",
      "content='How many Switch games are there?' role='user'\n",
      "content=None role='assistant' tool_calls=[ChatCompletionMessageToolCall(id='call_E0fPMr4KFiWeXc6D77Hu0tij', function=Function(arguments='{\"platform\":\"Switch\"}', name='count_games'), type='function')]\n",
      "content='4' role='tool' tool_call_id='call_E0fPMr4KFiWeXc6D77Hu0tij' name='count_games'\n",
      "content='There are 4 Nintendo Switch games in the dataset.' role='assistant' tool_calls=None\n",
      "There are 4 Nintendo Switch games in the dataset.\n"
     ]
    }
   ],
   "source": [
    "print(game_stats_agent.invoke(\"How many Switch games are there?\"))"
   ]
  },
  {
   "cell_type": "code",
   "execution_count": 17,
   "id": "eba3dcfc",
   "metadata": {},
   "outputs": [
    {
     "name": "stdout",
     "output_type": "stream",
     "text": [
      "<Tool name=platform_mean params=['platform']>\n",
      "content=\"You're an AI Agent and your role is Game Stats Assistant. Your instructions: Answer questions about the provided Nintendo games dataset. Use tools when helpful.\" role='system'\n",
      "content=\"What's the average score on 3DS?\" role='user'\n",
      "content=None role='assistant' tool_calls=[ChatCompletionMessageToolCall(id='call_d2SUNjlpoXh4nUc4pxKUnZ95', function=Function(arguments='{\"platform\":\"3DS\"}', name='platform_mean'), type='function')]\n",
      "content='90.0' role='tool' tool_call_id='call_d2SUNjlpoXh4nUc4pxKUnZ95' name='platform_mean'\n",
      "content='The average score on the 3DS is 90.0.' role='assistant' tool_calls=None\n",
      "The average score on the 3DS is 90.0.\n"
     ]
    }
   ],
   "source": [
    "print(game_stats_agent.invoke(\"What's the average score on 3DS?\"))"
   ]
  },
  {
   "cell_type": "code",
   "execution_count": 18,
   "id": "1b7296b8",
   "metadata": {},
   "outputs": [
    {
     "name": "stdout",
     "output_type": "stream",
     "text": [
      "<Tool name=platform_distribution params=[]>\n",
      "content=\"You're an AI Agent and your role is Game Stats Assistant. Your instructions: Answer questions about the provided Nintendo games dataset. Use tools when helpful.\" role='system'\n",
      "content='What is the distribution of platforms?' role='user'\n",
      "content=None role='assistant' tool_calls=[ChatCompletionMessageToolCall(id='call_WtnK5sZYsOaVIk3S99uXLo3Z', function=Function(arguments='{}', name='platform_distribution'), type='function')]\n",
      "content='{\"Switch\": 4, \"GameCube\": 1, \"Wii\": 2, \"3DS\": 2, \"Wii U\": 1}' role='tool' tool_call_id='call_WtnK5sZYsOaVIk3S99uXLo3Z' name='platform_distribution'\n",
      "content='The distribution of platforms in the dataset is as follows:\\n\\n- Switch: 4 games\\n- GameCube: 1 game\\n- Wii: 2 games\\n- 3DS: 2 games\\n- Wii U: 1 game' role='assistant' tool_calls=None\n",
      "The distribution of platforms in the dataset is as follows:\n",
      "\n",
      "- Switch: 4 games\n",
      "- GameCube: 1 game\n",
      "- Wii: 2 games\n",
      "- 3DS: 2 games\n",
      "- Wii U: 1 game\n"
     ]
    }
   ],
   "source": [
    "print(game_stats_agent.invoke(\"What is the distribution of platforms?\"))"
   ]
  },
  {
   "cell_type": "code",
   "execution_count": null,
   "id": "6b7e1005",
   "metadata": {},
   "outputs": [],
   "source": []
  }
 ],
 "metadata": {
  "kernelspec": {
   "display_name": "venv",
   "language": "python",
   "name": "python3"
  },
  "language_info": {
   "codemirror_mode": {
    "name": "ipython",
    "version": 3
   },
   "file_extension": ".py",
   "mimetype": "text/x-python",
   "name": "python",
   "nbconvert_exporter": "python",
   "pygments_lexer": "ipython3",
   "version": "3.13.0 (main, Dec  3 2024, 02:24:14) [GCC 10.2.1 20210110]"
  },
  "vscode": {
   "interpreter": {
    "hash": "23393d2575091a37cff0d0e9e7479591a295495b26c3b2ebf9b64da572e02d85"
   }
  }
 },
 "nbformat": 4,
 "nbformat_minor": 5
}
